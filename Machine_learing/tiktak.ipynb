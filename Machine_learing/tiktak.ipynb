{
 "cells": [
  {
   "cell_type": "code",
   "execution_count": 21,
   "metadata": {
    "collapsed": true
   },
   "outputs": [
    {
     "name": "stdout",
     "output_type": "stream",
     "text": [
      "root\n",
      "├── \n",
      "│   ├── 3\n",
      "│   └── 5\n",
      "└── \n",
      "    ├── 2\n",
      "    └── 9\n",
      "\n"
     ]
    }
   ],
   "source": [
    "from treelib import Node, Tree\n",
    "\n",
    "tree = Tree()\n",
    "tree.create_node(\"root\", \"root\")\n",
    "tree.create_node(\"\", \"l1\", parent='root')\n",
    "tree.create_node(\"\", \"r1\", parent='root')\n",
    "tree.create_node(\"3\", \"l1-1\", parent='l1')\n",
    "tree.create_node(\"5\", \"l1-2\", parent='l1')\n",
    "tree.create_node(\"2\", \"r1-1\", parent='r1')\n",
    "tree.create_node(\"9\", \"r1-2\", parent='r1')\n",
    "tree\n",
    "tree.show()"
   ]
  },
  {
   "cell_type": "code",
   "execution_count": 22,
   "outputs": [
    {
     "data": {
      "text/plain": "3"
     },
     "execution_count": 22,
     "metadata": {},
     "output_type": "execute_result"
    }
   ],
   "source": [
    "def minmax(tree, current_id, is_max):\n",
    "    '''\n",
    "    tree: tree object to minmax over\n",
    "    current_id: current_id where we are in the tree\n",
    "    is_max: are we the maximizing player?\n",
    "    '''\n",
    "    if tree.depth(current_id) == tree.depth():             # If this holds, we are at the end of the tree\n",
    "        return int(tree[current_id].tag)                   # return the value at the end of tree so it propagates up the tree\n",
    "    children_of_current_id = tree.children(current_id)     # Determine the children of the current node\n",
    "    scores = [minmax(tree, child.identifier, not is_max) for child in children_of_current_id]   # Recursively run this function on each of the children\n",
    "    if is_max:                                             # Return the appropriate score for the max or min player\n",
    "        return max(scores)\n",
    "    else:\n",
    "        return min(scores)\n",
    "\n",
    "minmax(tree, 'root', True)"
   ],
   "metadata": {
    "collapsed": false,
    "pycharm": {
     "name": "#%%\n"
    }
   }
  },
  {
   "cell_type": "code",
   "execution_count": null,
   "outputs": [],
   "source": [
    "def remove_value_list(l,val):\n",
    "    return [el for el in l if el != val]\n",
    "\n",
    "flip_player = {1: -1,-1: 1}\n",
    "\n"
   ],
   "metadata": {
    "collapsed": false,
    "pycharm": {
     "name": "#%%\n"
    }
   }
  }
 ],
 "metadata": {
  "kernelspec": {
   "display_name": "Python 3",
   "language": "python",
   "name": "python3"
  },
  "language_info": {
   "codemirror_mode": {
    "name": "ipython",
    "version": 2
   },
   "file_extension": ".py",
   "mimetype": "text/x-python",
   "name": "python",
   "nbconvert_exporter": "python",
   "pygments_lexer": "ipython2",
   "version": "2.7.6"
  }
 },
 "nbformat": 4,
 "nbformat_minor": 0
}