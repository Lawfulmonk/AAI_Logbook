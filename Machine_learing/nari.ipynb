{
 "cells": [
  {
   "cell_type": "code",
   "execution_count": 1,
   "metadata": {
    "collapsed": true
   },
   "outputs": [],
   "source": [
    "from datetime import datetime\n",
    "import pandas as pd"
   ]
  },
  {
   "cell_type": "code",
   "execution_count": 2,
   "outputs": [
    {
     "data": {
      "text/plain": "       sourcemmsi  navigationalstatus  rateofturn  speedoverground  \\\n0       245257000                   0           0              0.1   \n1       227705102                  15        -127              0.0   \n2       228131600                  15        -127              8.5   \n3       228051000                   0        -127              0.0   \n4       227574020                  15        -127              0.1   \n...           ...                 ...         ...              ...   \n49994   228051000                   0        -127              0.0   \n49995   228174600                   0           0             10.4   \n49996   228064900                   0           0              3.9   \n49997   234056000                   3           0              2.7   \n49998   228190600                   7        -127              0.0   \n\n       courseoverground  trueheading       lon        lat           t  \n0                  13.1           36 -4.465718  48.382490  1443650402  \n1                 262.7          511 -4.496571  48.382420  1443650403  \n2                 263.7          511 -4.644325  48.092247  1443650404  \n3                 295.0          511 -4.485108  48.381320  1443650405  \n4                 248.6          511 -4.495441  48.383660  1443650406  \n...                 ...          ...       ...        ...         ...  \n49994             293.4          511 -4.485077  48.381270  1443698515  \n49995             273.5          274 -4.458620  48.122944  1443698516  \n49996             119.8          119 -4.506620  48.338608  1443698517  \n49997              84.9           72 -4.891089  48.214794  1443698517  \n49998               0.0          511 -4.323767  48.097992  1443698517  \n\n[49999 rows x 9 columns]",
      "text/html": "<div>\n<style scoped>\n    .dataframe tbody tr th:only-of-type {\n        vertical-align: middle;\n    }\n\n    .dataframe tbody tr th {\n        vertical-align: top;\n    }\n\n    .dataframe thead th {\n        text-align: right;\n    }\n</style>\n<table border=\"1\" class=\"dataframe\">\n  <thead>\n    <tr style=\"text-align: right;\">\n      <th></th>\n      <th>sourcemmsi</th>\n      <th>navigationalstatus</th>\n      <th>rateofturn</th>\n      <th>speedoverground</th>\n      <th>courseoverground</th>\n      <th>trueheading</th>\n      <th>lon</th>\n      <th>lat</th>\n      <th>t</th>\n    </tr>\n  </thead>\n  <tbody>\n    <tr>\n      <th>0</th>\n      <td>245257000</td>\n      <td>0</td>\n      <td>0</td>\n      <td>0.1</td>\n      <td>13.1</td>\n      <td>36</td>\n      <td>-4.465718</td>\n      <td>48.382490</td>\n      <td>1443650402</td>\n    </tr>\n    <tr>\n      <th>1</th>\n      <td>227705102</td>\n      <td>15</td>\n      <td>-127</td>\n      <td>0.0</td>\n      <td>262.7</td>\n      <td>511</td>\n      <td>-4.496571</td>\n      <td>48.382420</td>\n      <td>1443650403</td>\n    </tr>\n    <tr>\n      <th>2</th>\n      <td>228131600</td>\n      <td>15</td>\n      <td>-127</td>\n      <td>8.5</td>\n      <td>263.7</td>\n      <td>511</td>\n      <td>-4.644325</td>\n      <td>48.092247</td>\n      <td>1443650404</td>\n    </tr>\n    <tr>\n      <th>3</th>\n      <td>228051000</td>\n      <td>0</td>\n      <td>-127</td>\n      <td>0.0</td>\n      <td>295.0</td>\n      <td>511</td>\n      <td>-4.485108</td>\n      <td>48.381320</td>\n      <td>1443650405</td>\n    </tr>\n    <tr>\n      <th>4</th>\n      <td>227574020</td>\n      <td>15</td>\n      <td>-127</td>\n      <td>0.1</td>\n      <td>248.6</td>\n      <td>511</td>\n      <td>-4.495441</td>\n      <td>48.383660</td>\n      <td>1443650406</td>\n    </tr>\n    <tr>\n      <th>...</th>\n      <td>...</td>\n      <td>...</td>\n      <td>...</td>\n      <td>...</td>\n      <td>...</td>\n      <td>...</td>\n      <td>...</td>\n      <td>...</td>\n      <td>...</td>\n    </tr>\n    <tr>\n      <th>49994</th>\n      <td>228051000</td>\n      <td>0</td>\n      <td>-127</td>\n      <td>0.0</td>\n      <td>293.4</td>\n      <td>511</td>\n      <td>-4.485077</td>\n      <td>48.381270</td>\n      <td>1443698515</td>\n    </tr>\n    <tr>\n      <th>49995</th>\n      <td>228174600</td>\n      <td>0</td>\n      <td>0</td>\n      <td>10.4</td>\n      <td>273.5</td>\n      <td>274</td>\n      <td>-4.458620</td>\n      <td>48.122944</td>\n      <td>1443698516</td>\n    </tr>\n    <tr>\n      <th>49996</th>\n      <td>228064900</td>\n      <td>0</td>\n      <td>0</td>\n      <td>3.9</td>\n      <td>119.8</td>\n      <td>119</td>\n      <td>-4.506620</td>\n      <td>48.338608</td>\n      <td>1443698517</td>\n    </tr>\n    <tr>\n      <th>49997</th>\n      <td>234056000</td>\n      <td>3</td>\n      <td>0</td>\n      <td>2.7</td>\n      <td>84.9</td>\n      <td>72</td>\n      <td>-4.891089</td>\n      <td>48.214794</td>\n      <td>1443698517</td>\n    </tr>\n    <tr>\n      <th>49998</th>\n      <td>228190600</td>\n      <td>7</td>\n      <td>-127</td>\n      <td>0.0</td>\n      <td>0.0</td>\n      <td>511</td>\n      <td>-4.323767</td>\n      <td>48.097992</td>\n      <td>1443698517</td>\n    </tr>\n  </tbody>\n</table>\n<p>49999 rows × 9 columns</p>\n</div>"
     },
     "execution_count": 2,
     "metadata": {},
     "output_type": "execute_result"
    }
   ],
   "source": [
    "df = pd.read_csv(\"../data_sets/nari_dynamic_limited.csv\")\n",
    "df\n",
    "#we can see that t is a timestamp"
   ],
   "metadata": {
    "collapsed": false,
    "pycharm": {
     "name": "#%%\n"
    }
   }
  },
  {
   "cell_type": "code",
   "execution_count": 3,
   "outputs": [
    {
     "name": "stdout",
     "output_type": "stream",
     "text": [
      "sourcemmsi            0\n",
      "navigationalstatus    0\n",
      "rateofturn            0\n",
      "speedoverground       0\n",
      "courseoverground      0\n",
      "trueheading           0\n",
      "lon                   0\n",
      "lat                   0\n",
      "t                     0\n",
      "dtype: int64\n"
     ]
    }
   ],
   "source": [
    "print(df.isna().sum())\n",
    "#no missing data nice"
   ],
   "metadata": {
    "collapsed": false,
    "pycharm": {
     "name": "#%%\n"
    }
   }
  },
  {
   "cell_type": "code",
   "execution_count": 4,
   "outputs": [
    {
     "data": {
      "text/plain": "0        1443650402\n1        1443650403\n2        1443650404\n3        1443650405\n4        1443650406\n            ...    \n49994    1443698515\n49995    1443698516\n49996    1443698517\n49997    1443698517\n49998    1443698517\nName: t, Length: 49999, dtype: int64"
     },
     "execution_count": 4,
     "metadata": {},
     "output_type": "execute_result"
    }
   ],
   "source": [
    "date = df['t']\n",
    "date"
   ],
   "metadata": {
    "collapsed": false,
    "pycharm": {
     "name": "#%%\n"
    }
   }
  },
  {
   "cell_type": "code",
   "execution_count": 5,
   "outputs": [
    {
     "ename": "TypeError",
     "evalue": "cannot convert the series to <class 'int'>",
     "output_type": "error",
     "traceback": [
      "\u001B[1;31m---------------------------------------------------------------------------\u001B[0m",
      "\u001B[1;31mTypeError\u001B[0m                                 Traceback (most recent call last)",
      "\u001B[1;32m<ipython-input-5-90a6589607a8>\u001B[0m in \u001B[0;36m<module>\u001B[1;34m\u001B[0m\n\u001B[0;32m      1\u001B[0m \u001B[1;32mfor\u001B[0m \u001B[0mts\u001B[0m \u001B[1;32min\u001B[0m \u001B[0mdate\u001B[0m\u001B[1;33m:\u001B[0m\u001B[1;33m\u001B[0m\u001B[1;33m\u001B[0m\u001B[0m\n\u001B[1;32m----> 2\u001B[1;33m     \u001B[0mprint\u001B[0m\u001B[1;33m(\u001B[0m\u001B[0mdatetime\u001B[0m\u001B[1;33m.\u001B[0m\u001B[0mfromtimestamp\u001B[0m\u001B[1;33m(\u001B[0m\u001B[0mint\u001B[0m\u001B[1;33m(\u001B[0m\u001B[0mdate\u001B[0m\u001B[1;33m)\u001B[0m\u001B[1;33m)\u001B[0m\u001B[1;33m.\u001B[0m\u001B[0mdate\u001B[0m\u001B[1;33m(\u001B[0m\u001B[1;33m)\u001B[0m\u001B[1;33m)\u001B[0m\u001B[1;33m\u001B[0m\u001B[1;33m\u001B[0m\u001B[0m\n\u001B[0m",
      "\u001B[1;32mc:\\users\\lawfulmonks pc\\appdata\\local\\programs\\python\\python37\\lib\\site-packages\\pandas\\core\\series.py\u001B[0m in \u001B[0;36mwrapper\u001B[1;34m(self)\u001B[0m\n\u001B[0;32m    127\u001B[0m         \u001B[1;32mif\u001B[0m \u001B[0mlen\u001B[0m\u001B[1;33m(\u001B[0m\u001B[0mself\u001B[0m\u001B[1;33m)\u001B[0m \u001B[1;33m==\u001B[0m \u001B[1;36m1\u001B[0m\u001B[1;33m:\u001B[0m\u001B[1;33m\u001B[0m\u001B[1;33m\u001B[0m\u001B[0m\n\u001B[0;32m    128\u001B[0m             \u001B[1;32mreturn\u001B[0m \u001B[0mconverter\u001B[0m\u001B[1;33m(\u001B[0m\u001B[0mself\u001B[0m\u001B[1;33m.\u001B[0m\u001B[0miloc\u001B[0m\u001B[1;33m[\u001B[0m\u001B[1;36m0\u001B[0m\u001B[1;33m]\u001B[0m\u001B[1;33m)\u001B[0m\u001B[1;33m\u001B[0m\u001B[1;33m\u001B[0m\u001B[0m\n\u001B[1;32m--> 129\u001B[1;33m         \u001B[1;32mraise\u001B[0m \u001B[0mTypeError\u001B[0m\u001B[1;33m(\u001B[0m\u001B[1;34mf\"cannot convert the series to {converter}\"\u001B[0m\u001B[1;33m)\u001B[0m\u001B[1;33m\u001B[0m\u001B[1;33m\u001B[0m\u001B[0m\n\u001B[0m\u001B[0;32m    130\u001B[0m \u001B[1;33m\u001B[0m\u001B[0m\n\u001B[0;32m    131\u001B[0m     \u001B[0mwrapper\u001B[0m\u001B[1;33m.\u001B[0m\u001B[0m__name__\u001B[0m \u001B[1;33m=\u001B[0m \u001B[1;34mf\"__{converter.__name__}__\"\u001B[0m\u001B[1;33m\u001B[0m\u001B[1;33m\u001B[0m\u001B[0m\n",
      "\u001B[1;31mTypeError\u001B[0m: cannot convert the series to <class 'int'>"
     ]
    }
   ],
   "source": [
    "for ts in date:\n",
    "    print(datetime.fromtimestamp(int(date)).date())"
   ],
   "metadata": {
    "collapsed": false,
    "pycharm": {
     "name": "#%%\n"
    }
   }
  }
 ],
 "metadata": {
  "kernelspec": {
   "display_name": "Python 3",
   "language": "python",
   "name": "python3"
  },
  "language_info": {
   "codemirror_mode": {
    "name": "ipython",
    "version": 2
   },
   "file_extension": ".py",
   "mimetype": "text/x-python",
   "name": "python",
   "nbconvert_exporter": "python",
   "pygments_lexer": "ipython2",
   "version": "2.7.6"
  }
 },
 "nbformat": 4,
 "nbformat_minor": 0
}