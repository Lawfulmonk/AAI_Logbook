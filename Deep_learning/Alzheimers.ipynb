{
 "cells": [
  {
   "cell_type": "code",
   "execution_count": 1,
   "outputs": [
    {
     "name": "stderr",
     "output_type": "stream",
     "text": [
      "Using TensorFlow backend.\n"
     ]
    }
   ],
   "source": [
    "import numpy as np\n",
    "import pandas as pd\n",
    "import matplotlib.pyplot as plt\n",
    "import seaborn as sns\n",
    "import itertools\n",
    "from sklearn.svm import SVC\n",
    "\n",
    "from sklearn.metrics import accuracy_score, confusion_matrix, precision_score, recall_score, f1_score, roc_curve, auc\n",
    "\n",
    "from sklearn.ensemble import RandomForestClassifier\n",
    "from sklearn.ensemble import RandomForestRegressor\n",
    "from sklearn.neighbors import KNeighborsClassifier\n",
    "from sklearn.linear_model import LogisticRegression\n",
    "from sklearn.linear_model import LinearRegression\n",
    "from sklearn.tree import DecisionTreeClassifier\n",
    "from sklearn.tree import DecisionTreeRegressor\n",
    "\n",
    "from sklearn.metrics import accuracy_score\n",
    "from sklearn.preprocessing import OneHotEncoder\n",
    "from sklearn.preprocessing import MinMaxScaler\n",
    "from sklearn import preprocessing\n",
    "from sklearn import utils\n",
    "from sklearn import svm\n",
    "from sklearn import metrics\n",
    "from sklearn.model_selection import train_test_split\n",
    "from keras.models import Sequential\n",
    "from keras.layers import Flatten, Dense, Dropout\n",
    "from sklearn.preprocessing import OneHotEncoder\n",
    "from sklearn.preprocessing import MinMaxScaler\n",
    "from sklearn import preprocessing\n",
    "from sklearn import svm\n",
    "from sklearn import metrics\n",
    "import tensorflow as tf\n",
    "from tensorflow import keras\n",
    "from tensorflow.keras import layers"
   ],
   "metadata": {
    "collapsed": false,
    "pycharm": {
     "name": "#%%\n"
    }
   }
  },
  {
   "cell_type": "markdown",
   "source": [],
   "metadata": {
    "collapsed": false
   }
  },
  {
   "cell_type": "code",
   "execution_count": 2,
   "outputs": [
    {
     "data": {
      "text/plain": "    Subject ID         MRI ID        Group  Visit  MR Delay M/F Hand  Age  \\\n0    OAS2_0001  OAS2_0001_MR1  Nondemented      1         0   M    R   87   \n1    OAS2_0001  OAS2_0001_MR2  Nondemented      2       457   M    R   88   \n2    OAS2_0002  OAS2_0002_MR1     Demented      1         0   M    R   75   \n3    OAS2_0002  OAS2_0002_MR2     Demented      2       560   M    R   76   \n4    OAS2_0002  OAS2_0002_MR3     Demented      3      1895   M    R   80   \n..         ...            ...          ...    ...       ...  ..  ...  ...   \n368  OAS2_0185  OAS2_0185_MR2     Demented      2       842   M    R   82   \n369  OAS2_0185  OAS2_0185_MR3     Demented      3      2297   M    R   86   \n370  OAS2_0186  OAS2_0186_MR1  Nondemented      1         0   F    R   61   \n371  OAS2_0186  OAS2_0186_MR2  Nondemented      2       763   F    R   63   \n372  OAS2_0186  OAS2_0186_MR3  Nondemented      3      1608   F    R   65   \n\n     EDUC  SES  MMSE  CDR  eTIV   nWBV    ASF  \n0      14  2.0  27.0  0.0  1987  0.696  0.883  \n1      14  2.0  30.0  0.0  2004  0.681  0.876  \n2      12  NaN  23.0  0.5  1678  0.736  1.046  \n3      12  NaN  28.0  0.5  1738  0.713  1.010  \n4      12  NaN  22.0  0.5  1698  0.701  1.034  \n..    ...  ...   ...  ...   ...    ...    ...  \n368    16  1.0  28.0  0.5  1693  0.694  1.037  \n369    16  1.0  26.0  0.5  1688  0.675  1.040  \n370    13  2.0  30.0  0.0  1319  0.801  1.331  \n371    13  2.0  30.0  0.0  1327  0.796  1.323  \n372    13  2.0  30.0  0.0  1333  0.801  1.317  \n\n[373 rows x 15 columns]",
      "text/html": "<div>\n<style scoped>\n    .dataframe tbody tr th:only-of-type {\n        vertical-align: middle;\n    }\n\n    .dataframe tbody tr th {\n        vertical-align: top;\n    }\n\n    .dataframe thead th {\n        text-align: right;\n    }\n</style>\n<table border=\"1\" class=\"dataframe\">\n  <thead>\n    <tr style=\"text-align: right;\">\n      <th></th>\n      <th>Subject ID</th>\n      <th>MRI ID</th>\n      <th>Group</th>\n      <th>Visit</th>\n      <th>MR Delay</th>\n      <th>M/F</th>\n      <th>Hand</th>\n      <th>Age</th>\n      <th>EDUC</th>\n      <th>SES</th>\n      <th>MMSE</th>\n      <th>CDR</th>\n      <th>eTIV</th>\n      <th>nWBV</th>\n      <th>ASF</th>\n    </tr>\n  </thead>\n  <tbody>\n    <tr>\n      <th>0</th>\n      <td>OAS2_0001</td>\n      <td>OAS2_0001_MR1</td>\n      <td>Nondemented</td>\n      <td>1</td>\n      <td>0</td>\n      <td>M</td>\n      <td>R</td>\n      <td>87</td>\n      <td>14</td>\n      <td>2.0</td>\n      <td>27.0</td>\n      <td>0.0</td>\n      <td>1987</td>\n      <td>0.696</td>\n      <td>0.883</td>\n    </tr>\n    <tr>\n      <th>1</th>\n      <td>OAS2_0001</td>\n      <td>OAS2_0001_MR2</td>\n      <td>Nondemented</td>\n      <td>2</td>\n      <td>457</td>\n      <td>M</td>\n      <td>R</td>\n      <td>88</td>\n      <td>14</td>\n      <td>2.0</td>\n      <td>30.0</td>\n      <td>0.0</td>\n      <td>2004</td>\n      <td>0.681</td>\n      <td>0.876</td>\n    </tr>\n    <tr>\n      <th>2</th>\n      <td>OAS2_0002</td>\n      <td>OAS2_0002_MR1</td>\n      <td>Demented</td>\n      <td>1</td>\n      <td>0</td>\n      <td>M</td>\n      <td>R</td>\n      <td>75</td>\n      <td>12</td>\n      <td>NaN</td>\n      <td>23.0</td>\n      <td>0.5</td>\n      <td>1678</td>\n      <td>0.736</td>\n      <td>1.046</td>\n    </tr>\n    <tr>\n      <th>3</th>\n      <td>OAS2_0002</td>\n      <td>OAS2_0002_MR2</td>\n      <td>Demented</td>\n      <td>2</td>\n      <td>560</td>\n      <td>M</td>\n      <td>R</td>\n      <td>76</td>\n      <td>12</td>\n      <td>NaN</td>\n      <td>28.0</td>\n      <td>0.5</td>\n      <td>1738</td>\n      <td>0.713</td>\n      <td>1.010</td>\n    </tr>\n    <tr>\n      <th>4</th>\n      <td>OAS2_0002</td>\n      <td>OAS2_0002_MR3</td>\n      <td>Demented</td>\n      <td>3</td>\n      <td>1895</td>\n      <td>M</td>\n      <td>R</td>\n      <td>80</td>\n      <td>12</td>\n      <td>NaN</td>\n      <td>22.0</td>\n      <td>0.5</td>\n      <td>1698</td>\n      <td>0.701</td>\n      <td>1.034</td>\n    </tr>\n    <tr>\n      <th>...</th>\n      <td>...</td>\n      <td>...</td>\n      <td>...</td>\n      <td>...</td>\n      <td>...</td>\n      <td>...</td>\n      <td>...</td>\n      <td>...</td>\n      <td>...</td>\n      <td>...</td>\n      <td>...</td>\n      <td>...</td>\n      <td>...</td>\n      <td>...</td>\n      <td>...</td>\n    </tr>\n    <tr>\n      <th>368</th>\n      <td>OAS2_0185</td>\n      <td>OAS2_0185_MR2</td>\n      <td>Demented</td>\n      <td>2</td>\n      <td>842</td>\n      <td>M</td>\n      <td>R</td>\n      <td>82</td>\n      <td>16</td>\n      <td>1.0</td>\n      <td>28.0</td>\n      <td>0.5</td>\n      <td>1693</td>\n      <td>0.694</td>\n      <td>1.037</td>\n    </tr>\n    <tr>\n      <th>369</th>\n      <td>OAS2_0185</td>\n      <td>OAS2_0185_MR3</td>\n      <td>Demented</td>\n      <td>3</td>\n      <td>2297</td>\n      <td>M</td>\n      <td>R</td>\n      <td>86</td>\n      <td>16</td>\n      <td>1.0</td>\n      <td>26.0</td>\n      <td>0.5</td>\n      <td>1688</td>\n      <td>0.675</td>\n      <td>1.040</td>\n    </tr>\n    <tr>\n      <th>370</th>\n      <td>OAS2_0186</td>\n      <td>OAS2_0186_MR1</td>\n      <td>Nondemented</td>\n      <td>1</td>\n      <td>0</td>\n      <td>F</td>\n      <td>R</td>\n      <td>61</td>\n      <td>13</td>\n      <td>2.0</td>\n      <td>30.0</td>\n      <td>0.0</td>\n      <td>1319</td>\n      <td>0.801</td>\n      <td>1.331</td>\n    </tr>\n    <tr>\n      <th>371</th>\n      <td>OAS2_0186</td>\n      <td>OAS2_0186_MR2</td>\n      <td>Nondemented</td>\n      <td>2</td>\n      <td>763</td>\n      <td>F</td>\n      <td>R</td>\n      <td>63</td>\n      <td>13</td>\n      <td>2.0</td>\n      <td>30.0</td>\n      <td>0.0</td>\n      <td>1327</td>\n      <td>0.796</td>\n      <td>1.323</td>\n    </tr>\n    <tr>\n      <th>372</th>\n      <td>OAS2_0186</td>\n      <td>OAS2_0186_MR3</td>\n      <td>Nondemented</td>\n      <td>3</td>\n      <td>1608</td>\n      <td>F</td>\n      <td>R</td>\n      <td>65</td>\n      <td>13</td>\n      <td>2.0</td>\n      <td>30.0</td>\n      <td>0.0</td>\n      <td>1333</td>\n      <td>0.801</td>\n      <td>1.317</td>\n    </tr>\n  </tbody>\n</table>\n<p>373 rows × 15 columns</p>\n</div>"
     },
     "execution_count": 2,
     "metadata": {},
     "output_type": "execute_result"
    }
   ],
   "source": [
    "data = pd.read_csv('../data_sets/oasis_longitudinal.csv')\n",
    "data"
   ],
   "metadata": {
    "collapsed": false,
    "pycharm": {
     "name": "#%%\n"
    }
   }
  },
  {
   "cell_type": "markdown",
   "source": [
    "Laten we eerst een kijke hoe veel data we missen en een gevoel krijgen voor de data"
   ],
   "metadata": {
    "collapsed": false
   }
  },
  {
   "cell_type": "code",
   "execution_count": 3,
   "outputs": [
    {
     "name": "stdout",
     "output_type": "stream",
     "text": [
      "<class 'pandas.core.frame.DataFrame'>\n",
      "RangeIndex: 373 entries, 0 to 372\n",
      "Data columns (total 15 columns):\n",
      " #   Column      Non-Null Count  Dtype  \n",
      "---  ------      --------------  -----  \n",
      " 0   Subject ID  373 non-null    object \n",
      " 1   MRI ID      373 non-null    object \n",
      " 2   Group       373 non-null    object \n",
      " 3   Visit       373 non-null    int64  \n",
      " 4   MR Delay    373 non-null    int64  \n",
      " 5   M/F         373 non-null    object \n",
      " 6   Hand        373 non-null    object \n",
      " 7   Age         373 non-null    int64  \n",
      " 8   EDUC        373 non-null    int64  \n",
      " 9   SES         354 non-null    float64\n",
      " 10  MMSE        371 non-null    float64\n",
      " 11  CDR         373 non-null    float64\n",
      " 12  eTIV        373 non-null    int64  \n",
      " 13  nWBV        373 non-null    float64\n",
      " 14  ASF         373 non-null    float64\n",
      "dtypes: float64(5), int64(5), object(5)\n",
      "memory usage: 43.8+ KB\n"
     ]
    }
   ],
   "source": [
    "data.info()\n",
    "#ID kijken.\n",
    "#M/F naar int to zetten.\n",
    "#hand kijken"
   ],
   "metadata": {
    "collapsed": false,
    "pycharm": {
     "name": "#%%\n"
    }
   }
  },
  {
   "cell_type": "code",
   "execution_count": 4,
   "outputs": [
    {
     "name": "stdout",
     "output_type": "stream",
     "text": [
      "150 Subject ID\n",
      "373 MRI ID\n",
      "3 Group\n",
      "5 Visit\n",
      "201 MR Delay\n",
      "2 M/F\n",
      "1 Hand\n",
      "39 Age\n",
      "12 EDUC\n",
      "6 SES\n",
      "19 MMSE\n",
      "4 CDR\n",
      "286 eTIV\n",
      "136 nWBV\n",
      "265 ASF\n"
     ]
    }
   ],
   "source": [
    "for x in data.columns:\n",
    "    print(data[x].unique().__len__(),x)\n",
    "# hier zien we dat hand maar 1 warden heeft dus die kan weg.\n",
    "# Veder zien we dat MRI ID ook weg kan om dat het overal anders is.\n",
    "# Subject ID hebben we ook niet echt noding om dat het niks te maken heeft met wat we willen onderzoeken"
   ],
   "metadata": {
    "collapsed": false,
    "pycharm": {
     "name": "#%%\n"
    }
   }
  },
  {
   "cell_type": "code",
   "execution_count": 5,
   "outputs": [],
   "source": [
    "data = data.drop(columns=['Hand','Subject ID','MRI ID'])"
   ],
   "metadata": {
    "collapsed": false,
    "pycharm": {
     "name": "#%%\n"
    }
   }
  },
  {
   "cell_type": "code",
   "execution_count": 6,
   "outputs": [
    {
     "data": {
      "text/plain": "     Group  Visit  MR Delay  M/F  Age  EDUC  SES  MMSE  CDR  eTIV   nWBV  \\\n0        0      1         0    1   87    14  2.0  27.0  0.0  1987  0.696   \n1        0      2       457    1   88    14  2.0  30.0  0.0  2004  0.681   \n2        1      1         0    1   75    12  NaN  23.0  0.5  1678  0.736   \n3        1      2       560    1   76    12  NaN  28.0  0.5  1738  0.713   \n4        1      3      1895    1   80    12  NaN  22.0  0.5  1698  0.701   \n..     ...    ...       ...  ...  ...   ...  ...   ...  ...   ...    ...   \n368      1      2       842    1   82    16  1.0  28.0  0.5  1693  0.694   \n369      1      3      2297    1   86    16  1.0  26.0  0.5  1688  0.675   \n370      0      1         0    0   61    13  2.0  30.0  0.0  1319  0.801   \n371      0      2       763    0   63    13  2.0  30.0  0.0  1327  0.796   \n372      0      3      1608    0   65    13  2.0  30.0  0.0  1333  0.801   \n\n       ASF  \n0    0.883  \n1    0.876  \n2    1.046  \n3    1.010  \n4    1.034  \n..     ...  \n368  1.037  \n369  1.040  \n370  1.331  \n371  1.323  \n372  1.317  \n\n[373 rows x 12 columns]",
      "text/html": "<div>\n<style scoped>\n    .dataframe tbody tr th:only-of-type {\n        vertical-align: middle;\n    }\n\n    .dataframe tbody tr th {\n        vertical-align: top;\n    }\n\n    .dataframe thead th {\n        text-align: right;\n    }\n</style>\n<table border=\"1\" class=\"dataframe\">\n  <thead>\n    <tr style=\"text-align: right;\">\n      <th></th>\n      <th>Group</th>\n      <th>Visit</th>\n      <th>MR Delay</th>\n      <th>M/F</th>\n      <th>Age</th>\n      <th>EDUC</th>\n      <th>SES</th>\n      <th>MMSE</th>\n      <th>CDR</th>\n      <th>eTIV</th>\n      <th>nWBV</th>\n      <th>ASF</th>\n    </tr>\n  </thead>\n  <tbody>\n    <tr>\n      <th>0</th>\n      <td>0</td>\n      <td>1</td>\n      <td>0</td>\n      <td>1</td>\n      <td>87</td>\n      <td>14</td>\n      <td>2.0</td>\n      <td>27.0</td>\n      <td>0.0</td>\n      <td>1987</td>\n      <td>0.696</td>\n      <td>0.883</td>\n    </tr>\n    <tr>\n      <th>1</th>\n      <td>0</td>\n      <td>2</td>\n      <td>457</td>\n      <td>1</td>\n      <td>88</td>\n      <td>14</td>\n      <td>2.0</td>\n      <td>30.0</td>\n      <td>0.0</td>\n      <td>2004</td>\n      <td>0.681</td>\n      <td>0.876</td>\n    </tr>\n    <tr>\n      <th>2</th>\n      <td>1</td>\n      <td>1</td>\n      <td>0</td>\n      <td>1</td>\n      <td>75</td>\n      <td>12</td>\n      <td>NaN</td>\n      <td>23.0</td>\n      <td>0.5</td>\n      <td>1678</td>\n      <td>0.736</td>\n      <td>1.046</td>\n    </tr>\n    <tr>\n      <th>3</th>\n      <td>1</td>\n      <td>2</td>\n      <td>560</td>\n      <td>1</td>\n      <td>76</td>\n      <td>12</td>\n      <td>NaN</td>\n      <td>28.0</td>\n      <td>0.5</td>\n      <td>1738</td>\n      <td>0.713</td>\n      <td>1.010</td>\n    </tr>\n    <tr>\n      <th>4</th>\n      <td>1</td>\n      <td>3</td>\n      <td>1895</td>\n      <td>1</td>\n      <td>80</td>\n      <td>12</td>\n      <td>NaN</td>\n      <td>22.0</td>\n      <td>0.5</td>\n      <td>1698</td>\n      <td>0.701</td>\n      <td>1.034</td>\n    </tr>\n    <tr>\n      <th>...</th>\n      <td>...</td>\n      <td>...</td>\n      <td>...</td>\n      <td>...</td>\n      <td>...</td>\n      <td>...</td>\n      <td>...</td>\n      <td>...</td>\n      <td>...</td>\n      <td>...</td>\n      <td>...</td>\n      <td>...</td>\n    </tr>\n    <tr>\n      <th>368</th>\n      <td>1</td>\n      <td>2</td>\n      <td>842</td>\n      <td>1</td>\n      <td>82</td>\n      <td>16</td>\n      <td>1.0</td>\n      <td>28.0</td>\n      <td>0.5</td>\n      <td>1693</td>\n      <td>0.694</td>\n      <td>1.037</td>\n    </tr>\n    <tr>\n      <th>369</th>\n      <td>1</td>\n      <td>3</td>\n      <td>2297</td>\n      <td>1</td>\n      <td>86</td>\n      <td>16</td>\n      <td>1.0</td>\n      <td>26.0</td>\n      <td>0.5</td>\n      <td>1688</td>\n      <td>0.675</td>\n      <td>1.040</td>\n    </tr>\n    <tr>\n      <th>370</th>\n      <td>0</td>\n      <td>1</td>\n      <td>0</td>\n      <td>0</td>\n      <td>61</td>\n      <td>13</td>\n      <td>2.0</td>\n      <td>30.0</td>\n      <td>0.0</td>\n      <td>1319</td>\n      <td>0.801</td>\n      <td>1.331</td>\n    </tr>\n    <tr>\n      <th>371</th>\n      <td>0</td>\n      <td>2</td>\n      <td>763</td>\n      <td>0</td>\n      <td>63</td>\n      <td>13</td>\n      <td>2.0</td>\n      <td>30.0</td>\n      <td>0.0</td>\n      <td>1327</td>\n      <td>0.796</td>\n      <td>1.323</td>\n    </tr>\n    <tr>\n      <th>372</th>\n      <td>0</td>\n      <td>3</td>\n      <td>1608</td>\n      <td>0</td>\n      <td>65</td>\n      <td>13</td>\n      <td>2.0</td>\n      <td>30.0</td>\n      <td>0.0</td>\n      <td>1333</td>\n      <td>0.801</td>\n      <td>1.317</td>\n    </tr>\n  </tbody>\n</table>\n<p>373 rows × 12 columns</p>\n</div>"
     },
     "execution_count": 6,
     "metadata": {},
     "output_type": "execute_result"
    }
   ],
   "source": [
    "data['M/F'] = data['M/F'].replace(['F','M'],[0,1])\n",
    "data['Group'] = data['Group'].replace(['Converted','Demented','Nondemented'],[1,1,0])\n",
    "data\n"
   ],
   "metadata": {
    "collapsed": false,
    "pycharm": {
     "name": "#%%\n"
    }
   }
  },
  {
   "cell_type": "code",
   "execution_count": 7,
   "outputs": [
    {
     "data": {
      "text/plain": "Group        0\nVisit        0\nMR Delay     0\nM/F          0\nAge          0\nEDUC         0\nSES         19\nMMSE         0\nCDR          0\neTIV         0\nnWBV         0\nASF          0\ndtype: int64"
     },
     "execution_count": 7,
     "metadata": {},
     "output_type": "execute_result"
    }
   ],
   "source": [
    "data['MMSE']=data['MMSE'].fillna(value=data['MMSE'].median())\n",
    "data.isnull().sum()"
   ],
   "metadata": {
    "collapsed": false,
    "pycharm": {
     "name": "#%%\n"
    }
   }
  },
  {
   "cell_type": "code",
   "execution_count": 8,
   "outputs": [
    {
     "data": {
      "text/plain": "Group       0\nVisit       0\nMR Delay    0\nM/F         0\nAge         0\nEDUC        0\nSES         0\nMMSE        0\nCDR         0\neTIV        0\nnWBV        0\nASF         0\ndtype: int64"
     },
     "execution_count": 8,
     "metadata": {},
     "output_type": "execute_result"
    }
   ],
   "source": [
    "data['SES'] = data['SES'].fillna(value=data['SES'].median())\n",
    "data.isnull().sum()"
   ],
   "metadata": {
    "collapsed": false,
    "pycharm": {
     "name": "#%%\n"
    }
   }
  },
  {
   "cell_type": "markdown",
   "source": [
    "The accuracy of the KNN is 0.8 <br/>\n",
    "\n",
    "kijken of we een nn kunnen maken die dit beter kan."
   ],
   "metadata": {
    "collapsed": false
   }
  },
  {
   "cell_type": "code",
   "execution_count": 9,
   "outputs": [
    {
     "name": "stdout",
     "output_type": "stream",
     "text": [
      "(298, 3) (298,)\n",
      "(75, 3) (75,)\n"
     ]
    }
   ],
   "source": [
    "feature_X = data[['M/F','MMSE','EDUC']]\n",
    "target_y = data['Group']\n",
    "train_X, test_X, train_y, test_y = train_test_split(feature_X, target_y, test_size = 0.20, random_state = 42)\n",
    "print(train_X.shape, train_y.shape)\n",
    "print(test_X.shape, test_y.shape)"
   ],
   "metadata": {
    "collapsed": false,
    "pycharm": {
     "name": "#%%\n"
    }
   }
  },
  {
   "cell_type": "code",
   "execution_count": 10,
   "outputs": [
    {
     "name": "stdout",
     "output_type": "stream",
     "text": [
      "192    0\n",
      "75     1\n",
      "84     0\n",
      "361    0\n",
      "16     1\n",
      "66     0\n",
      "283    1\n",
      "7      0\n",
      "113    0\n",
      "116    0\n",
      "Name: Group, dtype: int64\n"
     ]
    }
   ],
   "source": [
    "# De waarden in X_train zijn erg verschillend, een neuraal netwerk verwacht waarden rond 0\n",
    "val_X = train_X.values\n",
    "min_max_scaler = MinMaxScaler()\n",
    "nn_train_X = min_max_scaler.fit_transform(val_X)\n",
    "\n",
    "# Keras verwacht een matrix (array van array's) als output:\n",
    "nn_train_y = train_y.values.reshape(-1,1)\n",
    "nn_test_y = test_y.values.reshape(-1,1)\n",
    "\n",
    "encoder = OneHotEncoder(sparse=False)\n",
    "nn_train_y = encoder.fit_transform(nn_train_y)\n",
    "nn_test_y = encoder.transform(nn_test_y)\n",
    "\n",
    "print(train_y[:10])\n",
    "\n",
    "nn_test_X = test_X.values\n",
    "nn_test_X = min_max_scaler.fit_transform(nn_test_X)\n",
    "\n",
    "# Om te zorgen dat we de sigmoid activatie kunnen gebruiken moeten we de data reschapen\n",
    "nn_train_y = np.asarray(train_y).astype('float32').reshape((-1,1))\n",
    "nn_test_y = np.asarray(test_y).astype('float32').reshape((-1,1))\n",
    "\n",
    "x_val_set = train_X[:60]\n",
    "y_val_set = train_y[:60]"
   ],
   "metadata": {
    "collapsed": false,
    "pycharm": {
     "name": "#%%\n"
    }
   }
  },
  {
   "cell_type": "code",
   "execution_count": 11,
   "outputs": [],
   "source": [
    "# simple nn\n",
    "nn_model = Sequential()\n",
    "nn_model.add(Dense(30, activation = \"relu\", input_shape = (nn_train_X.shape[1], )))\n",
    "nn_model.add(Dense(20, activation = \"relu\"))\n",
    "nn_model.add(Dense(10, activation = \"relu\"))\n",
    "nn_model.add(Dense(1, activation = \"sigmoid\"))"
   ],
   "metadata": {
    "collapsed": false,
    "pycharm": {
     "name": "#%%\n"
    }
   }
  },
  {
   "cell_type": "code",
   "execution_count": 12,
   "outputs": [
    {
     "name": "stdout",
     "output_type": "stream",
     "text": [
      "Model: \"sequential\"\n",
      "_________________________________________________________________\n",
      "Layer (type)                 Output Shape              Param #   \n",
      "=================================================================\n",
      "dense (Dense)                (None, 30)                120       \n",
      "_________________________________________________________________\n",
      "dense_1 (Dense)              (None, 20)                620       \n",
      "_________________________________________________________________\n",
      "dense_2 (Dense)              (None, 10)                210       \n",
      "_________________________________________________________________\n",
      "dense_3 (Dense)              (None, 1)                 11        \n",
      "=================================================================\n",
      "Total params: 961\n",
      "Trainable params: 961\n",
      "Non-trainable params: 0\n",
      "_________________________________________________________________\n",
      "Epoch 1/20\n",
      "10/10 [==============================] - 0s 30ms/step - loss: 0.6847 - accuracy: 0.5302 - val_loss: 1.7949 - val_accuracy: 0.5667\b\b\b\b\b\b\b\b\b\b\b\b\b\b\b\b\b\b\b\b\b\b\b\b\b\b\b\b\b\b\b\b\b\b\b\b\b\b\b\b\b\b\b\b\b\b\b\b\b\b\b\b\b\b\b\b\b\b\b\b\b\b\b\b\b\b\b\b\b\b\b\b\b\b\b\b\b\b\b\b\b\b\b\b\b\b\b\b\b\b\b\b\b\b\b\b\b\b\b\b\b\b\b\b\b\b\b\b\b\b\b\b\b\b\b\b\b\n",
      "Epoch 2/20\n",
      "10/10 [==============================] - 0s 2ms/step - loss: 0.6763 - accuracy: 0.5302 - val_loss: 2.7182 - val_accuracy: 0.5667\b\b\b\b\b\b\b\b\b\b\b\b\b\b\b\b\b\b\b\b\b\b\b\b\b\b\b\b\b\b\b\b\b\b\b\b\n",
      "Epoch 3/20\n",
      "10/10 [==============================] - 0s 2ms/step - loss: 0.6705 - accuracy: 0.5604 - val_loss: 3.5355 - val_accuracy: 0.5667\b\b\b\b\b\b\b\b\b\b\b\b\b\b\b\b\b\b\b\b\b\b\b\b\b\b\b\b\b\b\b\b\b\b\b\b\n",
      "Epoch 4/20\n",
      "10/10 [==============================] - 0s 3ms/step - loss: 0.6656 - accuracy: 0.6141 - val_loss: 4.4575 - val_accuracy: 0.5667\b\b\b\b\b\b\b\b\b\b\b\b\b\b\b\b\b\b\b\b\b\b\b\b\b\b\b\b\b\b\b\b\b\b\b\b\n",
      "Epoch 5/20\n",
      "10/10 [==============================] - 0s 2ms/step - loss: 0.6636 - accuracy: 0.5872 - val_loss: 5.3811 - val_accuracy: 0.5667\b\b\b\b\b\b\b\b\b\b\b\b\b\b\b\b\b\b\b\b\b\b\b\b\b\b\b\b\b\b\b\b\b\b\b\b\n",
      "Epoch 6/20\n",
      "10/10 [==============================] - 0s 2ms/step - loss: 0.6588 - accuracy: 0.6208 - val_loss: 5.5659 - val_accuracy: 0.5667\b\b\b\b\b\b\b\b\b\b\b\b\b\b\b\b\b\b\b\b\b\b\b\b\b\b\b\b\b\b\b\b\b\b\b\b\n",
      "Epoch 7/20\n",
      "10/10 [==============================] - 0s 2ms/step - loss: 0.6582 - accuracy: 0.6074 - val_loss: 5.6017 - val_accuracy: 0.5667\b\b\b\b\b\b\b\b\b\b\b\b\b\b\b\b\b\b\b\b\b\b\b\b\b\b\b\b\b\b\b\b\b\b\b\b\n",
      "Epoch 8/20\n",
      "10/10 [==============================] - 0s 2ms/step - loss: 0.6558 - accuracy: 0.6544 - val_loss: 6.3879 - val_accuracy: 0.5667\b\b\b\b\b\b\b\b\b\b\b\b\b\b\b\b\b\b\b\b\b\b\b\b\b\b\b\b\b\b\b\b\b\b\b\b\n",
      "Epoch 9/20\n",
      "10/10 [==============================] - 0s 2ms/step - loss: 0.6526 - accuracy: 0.6409 - val_loss: 6.8370 - val_accuracy: 0.5667\b\b\b\b\b\b\b\b\b\b\b\b\b\b\b\b\b\b\b\b\b\b\b\b\b\b\b\b\b\b\b\b\b\b\b\b\n",
      "Epoch 10/20\n",
      "10/10 [==============================] - 0s 2ms/step - loss: 0.6509 - accuracy: 0.6510 - val_loss: 7.2523 - val_accuracy: 0.5667\b\b\b\b\b\b\b\b\b\b\b\b\b\b\b\b\b\b\b\b\b\b\b\b\b\b\b\b\b\b\b\b\b\b\b\b\n",
      "Epoch 11/20\n",
      "10/10 [==============================] - 0s 2ms/step - loss: 0.6487 - accuracy: 0.6510 - val_loss: 7.9758 - val_accuracy: 0.5667\b\b\b\b\b\b\b\b\b\b\b\b\b\b\b\b\b\b\b\b\b\b\b\b\b\b\b\b\b\b\b\b\b\b\b\b\n",
      "Epoch 12/20\n",
      "10/10 [==============================] - 0s 2ms/step - loss: 0.6466 - accuracy: 0.6477 - val_loss: 8.3292 - val_accuracy: 0.5667\b\b\b\b\b\b\b\b\b\b\b\b\b\b\b\b\b\b\b\b\b\b\b\b\b\b\b\b\b\b\b\b\b\b\b\b\n",
      "Epoch 13/20\n",
      "10/10 [==============================] - 0s 2ms/step - loss: 0.6441 - accuracy: 0.6611 - val_loss: 8.3985 - val_accuracy: 0.5667\b\b\b\b\b\b\b\b\b\b\b\b\b\b\b\b\b\b\b\b\b\b\b\b\b\b\b\b\b\b\b\b\b\b\b\b\n",
      "Epoch 14/20\n",
      "10/10 [==============================] - 0s 3ms/step - loss: 0.6416 - accuracy: 0.6376 - val_loss: 8.9043 - val_accuracy: 0.5667\b\b\b\b\b\b\b\b\b\b\b\b\b\b\b\b\b\b\b\b\b\b\b\b\b\b\b\b\b\b\b\b\b\b\b\b\n",
      "Epoch 15/20\n",
      "10/10 [==============================] - 0s 3ms/step - loss: 0.6389 - accuracy: 0.6409 - val_loss: 9.6423 - val_accuracy: 0.5667\b\b\b\b\b\b\b\b\b\b\b\b\b\b\b\b\b\b\b\b\b\b\b\b\b\b\b\b\b\b\b\b\b\b\b\b\n",
      "Epoch 16/20\n",
      "10/10 [==============================] - 0s 3ms/step - loss: 0.6342 - accuracy: 0.6275 - val_loss: 9.8775 - val_accuracy: 0.5667\b\b\b\b\b\b\b\b\b\b\b\b\b\b\b\b\b\b\b\b\b\b\b\b\b\b\b\b\b\b\b\b\b\b\b\b\n",
      "Epoch 17/20\n",
      "10/10 [==============================] - 0s 2ms/step - loss: 0.6302 - accuracy: 0.6242 - val_loss: 10.0556 - val_accuracy: 0.5667\b\b\b\b\b\b\b\b\b\b\b\b\b\b\b\b\b\b\b\b\b\b\b\b\b\b\b\b\b\b\b\b\b\b\b\n",
      "Epoch 18/20\n",
      "10/10 [==============================] - 0s 3ms/step - loss: 0.6254 - accuracy: 0.6242 - val_loss: 10.6044 - val_accuracy: 0.5667\b\b\b\b\b\b\b\b\b\b\b\b\b\b\b\b\b\b\b\b\b\b\b\b\b\b\b\b\b\b\b\b\b\b\b\n",
      "Epoch 19/20\n",
      "10/10 [==============================] - 0s 2ms/step - loss: 0.6228 - accuracy: 0.6309 - val_loss: 11.4921 - val_accuracy: 0.5667\b\b\b\b\b\b\b\b\b\b\b\b\b\b\b\b\b\b\b\b\b\b\b\b\b\b\b\b\b\b\b\b\b\b\b\n",
      "Epoch 20/20\n",
      "10/10 [==============================] - 0s 2ms/step - loss: 0.6172 - accuracy: 0.6409 - val_loss: 11.8228 - val_accuracy: 0.5667\b\b\b\b\b\b\b\b\b\b\b\b\b\b\b\b\b\b\b\b\b\b\b\b\b\b\b\b\b\b\b\b\b\b\b\n"
     ]
    }
   ],
   "source": [
    "nn_model.compile(optimizer = \"adam\", loss = \"binary_crossentropy\", metrics = [\"accuracy\"])\n",
    "nn_model.summary()\n",
    "history = nn_model.fit(nn_train_X, nn_train_y,\n",
    "                       epochs = 20,\n",
    "                       batch_size = 32,\n",
    "                       validation_data = (x_val_set, y_val_set))"
   ],
   "metadata": {
    "collapsed": false,
    "pycharm": {
     "name": "#%%\n"
    }
   }
  },
  {
   "cell_type": "code",
   "execution_count": 13,
   "outputs": [
    {
     "name": "stdout",
     "output_type": "stream",
     "text": [
      "3/3 [==============================] - 0s 1ms/step - loss: 0.6796 - accuracy: 0.5600\b\b\b\b\b\b\b\b\b\b\b\b\b\b\b\b\b\b\b\b\b\b\b\b\b\b\b\b\b\b\b\b\b\b\b\b\b\b\b\b\b\b\b\b\b\b\b\b\b\b\b\b\b\b\b\b\b\b\b\b\b\b\b\b\b\b\b\b\b\b\b\b\b\b\b\b\n",
      "0.5600000023841858\n"
     ]
    }
   ],
   "source": [
    "nn_loss, nn_acc = nn_model.evaluate(nn_test_X, nn_test_y)\n",
    "print(nn_acc)"
   ],
   "metadata": {
    "collapsed": false,
    "pycharm": {
     "name": "#%%\n"
    }
   }
  },
  {
   "cell_type": "code",
   "execution_count": 14,
   "outputs": [
    {
     "data": {
      "text/plain": "<Figure size 432x288 with 1 Axes>",
      "image/png": "[encoded data removed]"
     },
     "metadata": {
      "needs_background": "light"
     },
     "output_type": "display_data"
    }
   ],
   "source": [
    "# Plot history\n",
    "plt.plot(history.history['accuracy'], label='training data')\n",
    "plt.plot(history.history['val_accuracy'], label='validation data')\n",
    "plt.title('learning curve')\n",
    "plt.ylabel('value')\n",
    "plt.xlabel('No. epoch')\n",
    "plt.legend()\n",
    "plt.show()"
   ],
   "metadata": {
    "collapsed": false,
    "pycharm": {
     "name": "#%%\n"
    }
   }
  },
  {
   "cell_type": "code",
   "execution_count": 15,
   "outputs": [],
   "source": [
    "nn_model = Sequential()\n",
    "nn_model.add(Dense(64, activation = \"relu\", input_shape = (nn_train_X.shape[1], )))\n",
    "nn_model.add(Dropout(0.5, noise_shape=None, seed=None))\n",
    "nn_model.add(Dense(64, activation = \"relu\"))\n",
    "nn_model.add(Dropout(0.5, noise_shape=None, seed=None))\n",
    "nn_model.add(Dense(32, activation = \"relu\"))\n",
    "nn_model.add(Dropout(0.5, noise_shape=None, seed=None))\n",
    "nn_model.add(Dense(32, activation = \"relu\"))\n",
    "nn_model.add(Dense(1, activation = \"sigmoid\"))"
   ],
   "metadata": {
    "collapsed": false,
    "pycharm": {
     "name": "#%%\n"
    }
   }
  },
  {
   "cell_type": "code",
   "execution_count": 16,
   "outputs": [
    {
     "name": "stdout",
     "output_type": "stream",
     "text": [
      "Model: \"sequential_1\"\n",
      "_________________________________________________________________\n",
      "Layer (type)                 Output Shape              Param #   \n",
      "=================================================================\n",
      "dense_4 (Dense)              (None, 64)                256       \n",
      "_________________________________________________________________\n",
      "dropout (Dropout)            (None, 64)                0         \n",
      "_________________________________________________________________\n",
      "dense_5 (Dense)              (None, 64)                4160      \n",
      "_________________________________________________________________\n",
      "dropout_1 (Dropout)          (None, 64)                0         \n",
      "_________________________________________________________________\n",
      "dense_6 (Dense)              (None, 32)                2080      \n",
      "_________________________________________________________________\n",
      "dropout_2 (Dropout)          (None, 32)                0         \n",
      "_________________________________________________________________\n",
      "dense_7 (Dense)              (None, 32)                1056      \n",
      "_________________________________________________________________\n",
      "dense_8 (Dense)              (None, 1)                 33        \n",
      "=================================================================\n",
      "Total params: 7,585\n",
      "Trainable params: 7,585\n",
      "Non-trainable params: 0\n",
      "_________________________________________________________________\n",
      "Epoch 1/20\n",
      "10/10 [==============================] - 0s 13ms/step - loss: 0.7038 - accuracy: 0.4832 - val_loss: 0.7116 - val_accuracy: 0.5667\b\b\b\b\b\b\b\b\b\b\b\b\b\b\b\b\b\b\b\b\b\b\b\b\b\b\b\b\b\b\b\b\b\b\b\n",
      "Epoch 2/20\n",
      "10/10 [==============================] - 0s 3ms/step - loss: 0.6949 - accuracy: 0.5134 - val_loss: 0.8770 - val_accuracy: 0.5667\b\b\b\b\b\b\b\b\b\b\b\b\b\b\b\b\b\b\b\b\b\b\b\b\b\b\b\b\b\b\b\b\b\b\b\b\n",
      "Epoch 3/20\n",
      "10/10 [==============================] - 0s 3ms/step - loss: 0.6817 - accuracy: 0.5705 - val_loss: 1.0838 - val_accuracy: 0.5667\b\b\b\b\b\b\b\b\b\b\b\b\b\b\b\b\b\b\b\b\b\b\b\b\b\b\b\b\b\b\b\b\b\b\b\b\n",
      "Epoch 4/20\n",
      "10/10 [==============================] - 0s 2ms/step - loss: 0.6825 - accuracy: 0.5671 - val_loss: 1.5268 - val_accuracy: 0.5667\b\b\b\b\b\b\b\b\b\b\b\b\b\b\b\b\b\b\b\b\b\b\b\b\b\b\b\b\b\b\b\b\b\b\b\b\n",
      "Epoch 5/20\n",
      "10/10 [==============================] - 0s 3ms/step - loss: 0.6795 - accuracy: 0.5436 - val_loss: 1.9508 - val_accuracy: 0.5667\b\b\b\b\b\b\b\b\b\b\b\b\b\b\b\b\b\b\b\b\b\b\b\b\b\b\b\b\b\b\b\b\b\b\b\b\n",
      "Epoch 6/20\n",
      "10/10 [==============================] - 0s 2ms/step - loss: 0.6775 - accuracy: 0.5503 - val_loss: 2.3636 - val_accuracy: 0.5667\b\b\b\b\b\b\b\b\b\b\b\b\b\b\b\b\b\b\b\b\b\b\b\b\b\b\b\b\b\b\b\b\b\b\b\b\n",
      "Epoch 7/20\n",
      "10/10 [==============================] - 0s 3ms/step - loss: 0.6771 - accuracy: 0.5570 - val_loss: 2.9036 - val_accuracy: 0.5667\b\b\b\b\b\b\b\b\b\b\b\b\b\b\b\b\b\b\b\b\b\b\b\b\b\b\b\b\b\b\b\b\b\b\b\b\n",
      "Epoch 8/20\n",
      "10/10 [==============================] - 0s 3ms/step - loss: 0.6804 - accuracy: 0.5872 - val_loss: 3.3657 - val_accuracy: 0.5667\b\b\b\b\b\b\b\b\b\b\b\b\b\b\b\b\b\b\b\b\b\b\b\b\b\b\b\b\b\b\b\b\b\b\b\b\n",
      "Epoch 9/20\n",
      "10/10 [==============================] - 0s 3ms/step - loss: 0.6757 - accuracy: 0.5772 - val_loss: 3.3728 - val_accuracy: 0.5667\b\b\b\b\b\b\b\b\b\b\b\b\b\b\b\b\b\b\b\b\b\b\b\b\b\b\b\b\b\b\b\b\b\b\b\b\n",
      "Epoch 10/20\n",
      "10/10 [==============================] - 0s 3ms/step - loss: 0.6676 - accuracy: 0.6174 - val_loss: 3.8147 - val_accuracy: 0.5667\b\b\b\b\b\b\b\b\b\b\b\b\b\b\b\b\b\b\b\b\b\b\b\b\b\b\b\b\b\b\b\b\b\b\b\b\n",
      "Epoch 11/20\n",
      "10/10 [==============================] - 0s 2ms/step - loss: 0.6530 - accuracy: 0.6141 - val_loss: 4.6100 - val_accuracy: 0.5667\b\b\b\b\b\b\b\b\b\b\b\b\b\b\b\b\b\b\b\b\b\b\b\b\b\b\b\b\b\b\b\b\b\b\b\b\n",
      "Epoch 12/20\n",
      "10/10 [==============================] - 0s 3ms/step - loss: 0.6647 - accuracy: 0.5973 - val_loss: 5.2319 - val_accuracy: 0.5667\b\b\b\b\b\b\b\b\b\b\b\b\b\b\b\b\b\b\b\b\b\b\b\b\b\b\b\b\b\b\b\b\b\b\b\b\n",
      "Epoch 13/20\n",
      "10/10 [==============================] - 0s 3ms/step - loss: 0.6617 - accuracy: 0.5973 - val_loss: 5.8360 - val_accuracy: 0.5667\b\b\b\b\b\b\b\b\b\b\b\b\b\b\b\b\b\b\b\b\b\b\b\b\b\b\b\b\b\b\b\b\b\b\b\b\n",
      "Epoch 14/20\n",
      "10/10 [==============================] - 0s 3ms/step - loss: 0.6587 - accuracy: 0.6141 - val_loss: 6.0596 - val_accuracy: 0.5667\b\b\b\b\b\b\b\b\b\b\b\b\b\b\b\b\b\b\b\b\b\b\b\b\b\b\b\b\b\b\b\b\b\b\b\b\n",
      "Epoch 15/20\n",
      "10/10 [==============================] - 0s 3ms/step - loss: 0.6385 - accuracy: 0.6477 - val_loss: 6.2599 - val_accuracy: 0.5667\b\b\b\b\b\b\b\b\b\b\b\b\b\b\b\b\b\b\b\b\b\b\b\b\b\b\b\b\b\b\b\b\b\b\b\b\n",
      "Epoch 16/20\n",
      "10/10 [==============================] - 0s 3ms/step - loss: 0.6513 - accuracy: 0.6141 - val_loss: 7.0352 - val_accuracy: 0.5667\b\b\b\b\b\b\b\b\b\b\b\b\b\b\b\b\b\b\b\b\b\b\b\b\b\b\b\b\b\b\b\b\b\b\b\b\n",
      "Epoch 17/20\n",
      "10/10 [==============================] - 0s 3ms/step - loss: 0.6475 - accuracy: 0.6376 - val_loss: 7.2142 - val_accuracy: 0.5667\b\b\b\b\b\b\b\b\b\b\b\b\b\b\b\b\b\b\b\b\b\b\b\b\b\b\b\b\b\b\b\b\b\b\b\b\n",
      "Epoch 18/20\n",
      "10/10 [==============================] - 0s 3ms/step - loss: 0.6512 - accuracy: 0.6074 - val_loss: 8.0324 - val_accuracy: 0.5667\b\b\b\b\b\b\b\b\b\b\b\b\b\b\b\b\b\b\b\b\b\b\b\b\b\b\b\b\b\b\b\b\b\b\b\b\n",
      "Epoch 19/20\n",
      "10/10 [==============================] - 0s 3ms/step - loss: 0.6478 - accuracy: 0.6342 - val_loss: 8.2693 - val_accuracy: 0.5667\b\b\b\b\b\b\b\b\b\b\b\b\b\b\b\b\b\b\b\b\b\b\b\b\b\b\b\b\b\b\b\b\b\b\b\b\n",
      "Epoch 20/20\n",
      "10/10 [==============================] - 0s 3ms/step - loss: 0.6608 - accuracy: 0.6040 - val_loss: 7.8542 - val_accuracy: 0.5667\b\b\b\b\b\b\b\b\b\b\b\b\b\b\b\b\b\b\b\b\b\b\b\b\b\b\b\b\b\b\b\b\b\b\b\b\n"
     ]
    }
   ],
   "source": [
    "nn_model.compile(optimizer = \"adam\", loss = \"binary_crossentropy\", metrics = [\"accuracy\"])\n",
    "nn_model.summary()\n",
    "history = nn_model.fit(nn_train_X, nn_train_y,\n",
    "                       epochs = 20,\n",
    "                       batch_size = 32,\n",
    "                       validation_data = (x_val_set, y_val_set))"
   ],
   "metadata": {
    "collapsed": false,
    "pycharm": {
     "name": "#%%\n"
    }
   }
  },
  {
   "cell_type": "code",
   "execution_count": 17,
   "outputs": [
    {
     "name": "stdout",
     "output_type": "stream",
     "text": [
      "3/3 [==============================] - 0s 1ms/step - loss: 0.6787 - accuracy: 0.5600\b\b\b\b\b\b\b\b\b\b\b\b\b\b\b\b\b\b\b\b\b\b\b\b\b\b\b\b\b\b\b\b\b\b\b\b\b\b\b\b\b\b\b\b\b\b\b\b\b\b\b\b\b\b\b\b\b\b\b\b\b\b\b\b\b\b\b\b\b\b\b\b\b\b\b\b\n",
      "0.5600000023841858\n"
     ]
    }
   ],
   "source": [
    "nn_loss, nn_acc = nn_model.evaluate(nn_test_X, nn_test_y)\n",
    "print(nn_acc)"
   ],
   "metadata": {
    "collapsed": false,
    "pycharm": {
     "name": "#%%\n"
    }
   }
  },
  {
   "cell_type": "code",
   "execution_count": 18,
   "outputs": [
    {
     "data": {
      "text/plain": "<Figure size 432x288 with 1 Axes>",
      "image/png": "[encoded data removed]"
     },
     "metadata": {
      "needs_background": "light"
     },
     "output_type": "display_data"
    }
   ],
   "source": [
    "# Plot history\n",
    "plt.plot(history.history['accuracy'], label='training data')\n",
    "plt.plot(history.history['val_accuracy'], label='validation data')\n",
    "plt.title('learning curve')\n",
    "plt.ylabel('value')\n",
    "plt.xlabel('No. epoch')\n",
    "plt.legend()\n",
    "plt.show()"
   ],
   "metadata": {
    "collapsed": false,
    "pycharm": {
     "name": "#%%\n"
    }
   }
  },
  {
   "cell_type": "markdown",
   "source": [
    "we hebben niet bezonder veel data dus ook niet veel opsies maar ok zeker weer last van overfiting\n"
   ],
   "metadata": {
    "collapsed": false,
    "pycharm": {
     "name": "#%% md\n"
    }
   }
  }
 ],
 "metadata": {
  "kernelspec": {
   "display_name": "Python 3",
   "language": "python",
   "name": "python3"
  },
  "language_info": {
   "codemirror_mode": {
    "name": "ipython",
    "version": 2
   },
   "file_extension": ".py",
   "mimetype": "text/x-python",
   "name": "python",
   "nbconvert_exporter": "python",
   "pygments_lexer": "ipython2",
   "version": "2.7.6"
  }
 },
 "nbformat": 4,
 "nbformat_minor": 0
}