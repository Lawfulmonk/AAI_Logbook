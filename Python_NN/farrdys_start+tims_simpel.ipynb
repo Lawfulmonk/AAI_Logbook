{
 "cells": [
  {
   "cell_type": "code",
   "execution_count": 104,
   "metadata": {},
   "outputs": [],
   "source": [
    "# Ferry's life session DIY NN first step.\n",
    "# 30-9-2020\n",
    "\n",
    "# Modified to 2 dimensional arrays so we can transpose.\n",
    "\n",
    "# Almost there!\n",
    "\n",
    "import numpy as np\n",
    "import math\n",
    "\n",
    "# code below seen before can't remember where!\n",
    "class Relu:\n",
    "    def compute(self,m):\n",
    "        return np.array([x if x > 0 else 0 for x in m[0]], ndmin=2)\n",
    "    def differentiate(self,m):\n",
    "        return np.array([1.0 if x > 0 else 0 for x in m[0]], ndmin=2)\n",
    "    \n",
    "class Sigmoid :\n",
    "    def compute(self,m):\n",
    "        return np.array([(1 /(1 + math.exp(-x))) for x in m[0]], ndmin=2)\n",
    "    def differentiate(self,m):\n",
    "        m = self.compute(m)\n",
    "        return np.array([x * (1 - x) for x in m[0]], ndmin=2)\n",
    "\n",
    "# You need more think maybe mse or simpler, tanh, linear, softmax\n",
    "# # # # #\n",
    "#  Tim  #\n",
    "# # # # #\n",
    "class Tanh:\n",
    "    def compute(self, m):\n",
    "        return np.array([((np.exp(x)-np.exp(-x))/(np.exp(x)+np.exp(-x))) for x in m[0]],ndmin=2)\n",
    "    def differentiate(self, m):\n",
    "        m = self.compute(m)\n",
    "        return  np.array([1- x ** 2 for x in m[0]], ndmin=2)\n",
    "\n",
    "class logistic:\n",
    "    def compute(self,m):\n",
    "        return np.array([1/(1 + np.exp(-x)) for x in m[0]],ndmin=2)\n",
    "    def differentiate(self,m):\n",
    "        m = self.compute(m)\n",
    "        return np.array([x * (1 - x)for x in m[0]],ndmin=2)\n"
   ]
  },
  {
   "cell_type": "code",
   "execution_count": 105,
   "metadata": {},
   "outputs": [],
   "source": [
    "# A gift\n",
    "class MeanSquaredError:\n",
    "    def compute(self, target, prediction):\n",
    "        esum = 0\n",
    "        delta = np.subtract(target,prediction)\n",
    "        for i in delta:\n",
    "            esum += i ** 2\n",
    "        return esum/len(delta)    \n",
    "    def differentiate(self, prediction, target):\n",
    "        return np.multiply(np.subtract(target, prediction), 2)\n"
   ]
  },
  {
   "cell_type": "code",
   "execution_count": 106,
   "metadata": {},
   "outputs": [],
   "source": [
    "# What bias values?    \n",
    "\n",
    "# Make-layer now returns a list, tuples are read-only\n",
    "def make_layer(input_neurons, output_neurons, activation) :\n",
    "    return [np.random.rand(output_neurons, input_neurons) - 0.5 , np.zeros(output_neurons) , activation]\n",
    "\n",
    "# model definition ([ layers* ] , [ activations*])\n",
    "def make_model(model_def) :\n",
    "    layers = model_def[0]\n",
    "    act = model_def[1]\n",
    "    result = [] \n",
    "    for count , nr_neurons in enumerate(layers[:-1]) :\n",
    "        res = make_layer(nr_neurons, layers[count+1], act[count] ) \n",
    "        result.append(res)\n",
    "    return result\n",
    "\n",
    "def feed_forward(input_layer,w,b,function) :\n",
    "    return function.compute(np.add(np.dot(w,input_layer.T),b)) \n",
    "\n",
    "def model_predict(model, input_neurons) :\n",
    "    res = np.array(input_neurons, ndmin=2) \n",
    "    for layer in model :\n",
    "        res = feed_forward(res,layer[0],layer[1],layer[2]) \n",
    "    return res\n",
    "        "
   ]
  },
  {
   "cell_type": "code",
   "execution_count": 107,
   "metadata": {},
   "outputs": [],
   "source": [
    "# The next is not finished yet, missing the bias update see coding train or make your own pdf \n",
    "\n",
    "def model_fit(model,X,y): \n",
    "    results = [] \n",
    "    res = np.array(X, ndmin=2) \n",
    "    inputs = np.array(X, ndmin=2)\n",
    "    lr = 0.01\n",
    "    for layer in model :\n",
    "        res = feed_forward(res,layer[0],layer[1],layer[2]) \n",
    "        results.append(res)\n",
    "    #\n",
    "    e = np.subtract(y,results[-1])\n",
    "    hidden_errors = np.dot(model[-1][0].T, e.T)\n",
    "\n",
    "    print(str(hidden_errors) + ' >>> ' + str(e)+' hidden_errors')\n",
    "    \n",
    "    # update weight in de second layer\n",
    "    delta_who = lr * np.dot(e.T * model[-1][2].differentiate(results[-1]).T , results[-2])\n",
    "    model[-1][0] += delta_who\n",
    "    \n",
    "    # update weights in the firts layer (Loop there is a loop in there.)\n",
    "    delta_who = lr * np.dot(hidden_errors * model[-2][2].differentiate(results[-2]).T,inputs)\n",
    "    model[-2][0] += delta_who\n",
    "    \n",
    "    \n",
    "    # see pdf almost there!\n"
   ]
  },
  {
   "cell_type": "code",
   "execution_count": 108,
   "metadata": {},
   "outputs": [],
   "source": [
    "#print(model)\n",
    "model = make_model(([2,2,1] , [ Sigmoid(), Sigmoid() ]))"
   ]
  },
  {
   "cell_type": "code",
   "execution_count": 109,
   "metadata": {},
   "outputs": [
    {
     "name": "stdout",
     "output_type": "stream",
     "text": [
      "[[[0, 1], [1]]]\n",
      "[[0.03491674]\n",
      " [0.09781485]] >>> [[0.45761399]] hidden_errors\n",
      "None\n",
      "[[[0, 1], [1]]]\n",
      "[[0.03518794]\n",
      " [0.09806094]] >>> [[0.45743128]] hidden_errors\n",
      "None\n",
      "[[[0, 1], [1]]]\n",
      "[[0.0354588 ]\n",
      " [0.09830669]] >>> [[0.45724863]] hidden_errors\n",
      "None\n",
      "[[[0, 1], [1]]]\n",
      "[[0.03572932]\n",
      " [0.09855212]] >>> [[0.45706605]] hidden_errors\n",
      "None\n",
      "[[[0, 1], [1]]]\n",
      "[[0.03599949]\n",
      " [0.09879721]] >>> [[0.45688353]] hidden_errors\n",
      "None\n",
      "[[[0, 1], [1]]]\n",
      "[[0.03626933]\n",
      " [0.09904197]] >>> [[0.45670107]] hidden_errors\n",
      "None\n",
      "[[[0, 1], [1]]]\n",
      "[[0.03653883]\n",
      " [0.09928639]] >>> [[0.45651867]] hidden_errors\n",
      "None\n",
      "[[[0, 1], [1]]]\n",
      "[[0.03680799]\n",
      " [0.09953049]] >>> [[0.45633634]] hidden_errors\n",
      "None\n",
      "[[[0, 1], [1]]]\n",
      "[[0.03707681]\n",
      " [0.09977426]] >>> [[0.45615407]] hidden_errors\n",
      "None\n",
      "[[[0, 1], [1]]]\n",
      "[[0.03734529]\n",
      " [0.1000177 ]] >>> [[0.45597186]] hidden_errors\n",
      "None\n"
     ]
    }
   ],
   "source": [
    "import random\n",
    "# test with XOR\n",
    "samples_list = [\n",
    "    [[0,0], [0]],\n",
    "    [[0,1], [1]],\n",
    "    [[1,0], [1]],\n",
    "    [[1,1], [0]]\n",
    "]\n",
    "\n",
    "# 1: TEST THE WEIGHT UPDATES. by prinbting the errors errors sshould go down.\n",
    "element = random.sample(samples_list,1)\n",
    "for i in range(10):\n",
    "    print(element)\n",
    "    error = model_fit(model,element[0][0], element[0][1])\n",
    "    print(error)\n"
   ]
  },
  {
   "cell_type": "code",
   "execution_count": 110,
   "metadata": {},
   "outputs": [
    {
     "name": "stdout",
     "output_type": "stream",
     "text": [
      "[[0.54421028]]\n"
     ]
    }
   ],
   "source": [
    "\n",
    "print (model_predict(model, [0,1] ))"
   ]
  },
  {
   "cell_type": "code",
   "execution_count": 111,
   "metadata": {},
   "outputs": [],
   "source": [
    "model = make_model(([2,2,1] , [ Relu(), Sigmoid() ]))"
   ]
  },
  {
   "cell_type": "code",
   "execution_count": 112,
   "outputs": [
    {
     "name": "stdout",
     "output_type": "stream",
     "text": [
      "[[[1, 0], [1]]]\n",
      "[[ 0.07115825]\n",
      " [-0.18552383]] >>> [[0.52213921]] hidden_errors\n",
      "None\n",
      "[[[1, 0], [1]]]\n",
      "[[ 0.07141035]\n",
      " [-0.18524123]] >>> [[0.52207717]] hidden_errors\n",
      "None\n",
      "[[[1, 0], [1]]]\n",
      "[[ 0.07166275]\n",
      " [-0.18495814]] >>> [[0.52201474]] hidden_errors\n",
      "None\n",
      "[[[1, 0], [1]]]\n",
      "[[ 0.07191547]\n",
      " [-0.18467454]] >>> [[0.52195192]] hidden_errors\n",
      "None\n",
      "[[[1, 0], [1]]]\n",
      "[[ 0.0721685 ]\n",
      " [-0.18439044]] >>> [[0.52188872]] hidden_errors\n",
      "None\n",
      "[[[1, 0], [1]]]\n",
      "[[ 0.07242183]\n",
      " [-0.18410584]] >>> [[0.52182512]] hidden_errors\n",
      "None\n",
      "[[[1, 0], [1]]]\n",
      "[[ 0.07267547]\n",
      " [-0.18382074]] >>> [[0.52176113]] hidden_errors\n",
      "None\n",
      "[[[1, 0], [1]]]\n",
      "[[ 0.07292943]\n",
      " [-0.18353513]] >>> [[0.52169674]] hidden_errors\n",
      "None\n",
      "[[[1, 0], [1]]]\n",
      "[[ 0.07318369]\n",
      " [-0.18324902]] >>> [[0.52163194]] hidden_errors\n",
      "None\n",
      "[[[1, 0], [1]]]\n",
      "[[ 0.07343826]\n",
      " [-0.1829624 ]] >>> [[0.52156675]] hidden_errors\n",
      "None\n"
     ]
    }
   ],
   "source": [
    "import random\n",
    "# test with XOR\n",
    "samples_list = [\n",
    "    [[0,0], [0]],\n",
    "    [[0,1], [1]],\n",
    "    [[1,0], [1]],\n",
    "    [[1,1], [0]]\n",
    "]\n",
    "\n",
    "# 1: TEST THE WEIGHT UPDATES. by prinbting the errors errors should go down.\n",
    "element = random.sample(samples_list,1)\n",
    "for i in range(10):\n",
    "    print(element)\n",
    "    error = model_fit(model,element[0][0], element[0][1])\n",
    "    print(error)\n"
   ],
   "metadata": {
    "collapsed": false,
    "pycharm": {
     "name": "#%%\n"
    }
   }
  },
  {
   "cell_type": "code",
   "execution_count": 113,
   "outputs": [
    {
     "name": "stdout",
     "output_type": "stream",
     "text": [
      "[[0.5]]\n"
     ]
    }
   ],
   "source": [
    "\n",
    "print (model_predict(model, [0,1] ))\n",
    "\n"
   ],
   "metadata": {
    "collapsed": false,
    "pycharm": {
     "name": "#%%\n"
    }
   }
  },
  {
   "cell_type": "code",
   "execution_count": 113,
   "metadata": {},
   "outputs": [],
   "source": [
    "\n",
    "        "
   ]
  }
 ],
 "metadata": {
  "kernelspec": {
   "display_name": "Python 3",
   "language": "python",
   "name": "python3"
  },
  "language_info": {
   "codemirror_mode": {
    "name": "ipython",
    "version": 3
   },
   "file_extension": ".py",
   "mimetype": "text/x-python",
   "name": "python",
   "nbconvert_exporter": "python",
   "pygments_lexer": "ipython3",
   "version": "3.7.4"
  }
 },
 "nbformat": 4,
 "nbformat_minor": 4
}